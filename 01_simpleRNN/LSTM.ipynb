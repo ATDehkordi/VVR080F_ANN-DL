{
 "cells": [
  {
   "cell_type": "code",
   "execution_count": null,
   "id": "8ae0b3f3",
   "metadata": {},
   "outputs": [],
   "source": [
    "import numpy as np\n",
    "\n",
    "x_train = np.load('F:/PhD Lund/PythonCodes_Github/VVR080F_ANN-DL/Data_Regression/X_train.npy')\n",
    "x_test = np.load('F:/PhD Lund/PythonCodes_Github/VVR080F_ANN-DL/Data_Regression/X_test.npy')\n",
    "y_train = np.load('F:/PhD Lund/PythonCodes_Github/VVR080F_ANN-DL/Data_Regression/y_train.npy')\n",
    "y_test = np.load('F:/PhD Lund/PythonCodes_Github/VVR080F_ANN-DL/Data_Regression/y_test.npy')\n",
    "\n",
    "print('x train shape', x_train.shape)\n",
    "print('y train shape', y_train.shape)\n",
    "print('x test shape', x_test.shape)\n",
    "print('y test shape', y_test.shape)\n",
    "\n",
    "print('x train type', x_train.dtype)\n",
    "print('y train type', y_train.dtype)\n",
    "print('x test type', x_test.dtype)\n",
    "print('y test type', y_test.dtype)"
   ]
  },
  {
   "cell_type": "code",
   "execution_count": null,
   "id": "3bb8695b",
   "metadata": {},
   "outputs": [],
   "source": [
    "import matplotlib.pyplot as plt\n",
    "\n",
    "print('data total', np.concatenate((y_train, y_test), axis = 0).shape)\n",
    "plt.hist(np.concatenate((y_train, y_test), axis = 0));"
   ]
  },
  {
   "cell_type": "code",
   "execution_count": null,
   "id": "d6030d1b",
   "metadata": {},
   "outputs": [],
   "source": [
    "def mape(real, predict):\n",
    "    \n",
    "    \"\"\"\n",
    "    Will give MAPE(%) between real and predict values \n",
    "    \n",
    "    \"\"\"\n",
    "    \n",
    "    error = np.abs(real.ravel() - predict.ravel())\n",
    "    \n",
    "    real_masked = real.ravel()[real.ravel() != 0]\n",
    "    error_masked = error.ravel()[real.ravel() != 0]\n",
    "    \n",
    "    return np.mean( (error_masked/real_masked) * 100 )\n",
    "\n",
    "\n",
    "from scipy import stats\n",
    "\n",
    "def r_squared(real, predict):\n",
    "    \n",
    "    \"\"\"\n",
    "    Will give R2 (0-1) between real and predict values \n",
    "    \n",
    "    \"\"\"\n",
    "    _, _, r_value, _, _ = stats.linregress(real, predict)\n",
    "    return r_value**2"
   ]
  },
  {
   "cell_type": "code",
   "execution_count": null,
   "id": "491946bd",
   "metadata": {},
   "outputs": [],
   "source": [
    "import torch\n",
    "print(torch.__version__)\n",
    "print(torch.cuda.is_available())\n",
    "print(torch.cuda.get_device_name())"
   ]
  },
  {
   "cell_type": "code",
   "execution_count": 32,
   "id": "6ec88430",
   "metadata": {},
   "outputs": [],
   "source": [
    "num_of_outputs = 1\n",
    "\n",
    "x_train = x_train.reshape(x_train.shape[0], x_train.shape[1], 1).astype(np.float32)\n",
    "x_test = x_test.reshape(x_test.shape[0], x_test.shape[1], 1).astype(np.float32)\n",
    "\n",
    "y_train = y_train.astype(np.float32).reshape(-1, num_of_outputs)\n",
    "y_test = y_test.astype(np.float32).reshape(-1, num_of_outputs)\n",
    "\n",
    "x_train_torch = torch.from_numpy(x_train)\n",
    "x_test_torch = torch.from_numpy(x_test)\n",
    "y_train_torch = torch.from_numpy(y_train)\n",
    "y_test_torch = torch.from_numpy(y_test)\n",
    "\n",
    "from torch.utils.data import TensorDataset, DataLoader\n",
    "\n",
    "train_ds = TensorDataset(x_train_torch, y_train_torch)\n",
    "test_ds  = TensorDataset(x_test_torch,  y_test_torch)\n",
    "\n",
    "batch_size = 64\n",
    "\n",
    "train_loader = DataLoader(train_ds, batch_size=batch_size, shuffle=True)\n",
    "test_loader = DataLoader(test_ds, batch_size=batch_size, shuffle=True)"
   ]
  },
  {
   "cell_type": "code",
   "execution_count": 33,
   "id": "b23cde29",
   "metadata": {},
   "outputs": [
    {
     "data": {
      "text/plain": [
       "torch.Size([887, 12, 1])"
      ]
     },
     "execution_count": 33,
     "metadata": {},
     "output_type": "execute_result"
    }
   ],
   "source": [
    "x_train_torch.shape"
   ]
  },
  {
   "cell_type": "code",
   "execution_count": 36,
   "id": "bf2ec6b6",
   "metadata": {},
   "outputs": [],
   "source": [
    "import torch.nn as nn\n",
    "\n",
    "class LSTMRegressor(nn.Module):\n",
    "    def __init__(self, input_features_each_time_step, hidden_size, num_layers, bias, num_of_outputs):\n",
    "        super().__init__()\n",
    "        self.lstm = nn.LSTM(\n",
    "            input_size=input_features_each_time_step,\n",
    "            hidden_size=hidden_size,\n",
    "            num_layers=num_layers,\n",
    "            bias=bias,\n",
    "            batch_first=True\n",
    "        )\n",
    "        self.fc = nn.Linear(hidden_size, num_of_outputs)\n",
    "\n",
    "    def forward(self, x):\n",
    "        out, _ = self.lstm(x)           \n",
    "        last = out[:, -1, :]           \n",
    "        y = self.fc(last)             \n",
    "        return y"
   ]
  },
  {
   "cell_type": "code",
   "execution_count": 37,
   "id": "e356cd9e",
   "metadata": {},
   "outputs": [
    {
     "name": "stdout",
     "output_type": "stream",
     "text": [
      "MAPE 21.170538\n",
      "R2 0.6845852204516238\n"
     ]
    }
   ],
   "source": [
    "device = 'cuda' if torch.cuda.is_available() else 'cpu'\n",
    "\n",
    "model = LSTMRegressor(\n",
    "    input_features_each_time_step=1,\n",
    "    hidden_size=24,\n",
    "    num_layers=1,\n",
    "    bias=True,\n",
    "    num_of_outputs=1\n",
    ").to(device)\n",
    "\n",
    "loss_fn = nn.MSELoss()\n",
    "optimizer = torch.optim.Adam(model.parameters(), lr=1e-3)\n",
    "epochs = 200\n",
    "\n",
    "for epoch in range(epochs):\n",
    "    model.train()\n",
    "    for x_batch, y_batch in train_loader:\n",
    "\n",
    "        x_batch = x_batch.to(device).float()\n",
    "        y_batch = y_batch.to(device).float()\n",
    "        if y_batch.ndim == 1:\n",
    "            y_batch = y_batch.unsqueeze(1) \n",
    "\n",
    "        preds = model(x_batch)              \n",
    "        loss = loss_fn(preds, y_batch)\n",
    "\n",
    "        optimizer.zero_grad()\n",
    "        loss.backward()\n",
    "        optimizer.step()\n",
    "\n",
    "model.eval()\n",
    "y_true, y_pred = [], []\n",
    "with torch.no_grad():\n",
    "    for x_batch, y_batch in test_loader:\n",
    "        x_batch = x_batch.to(device).float()\n",
    "        y_batch = y_batch.to(device).float()\n",
    "        if y_batch.ndim == 1:\n",
    "            y_batch = y_batch.unsqueeze(1)\n",
    "\n",
    "        preds = model(x_batch)           \n",
    "        y_true.append(y_batch.squeeze(1).cpu())\n",
    "        y_pred.append(preds.squeeze(1).cpu())\n",
    "\n",
    "y_true = torch.cat(y_true, dim=0).numpy()  \n",
    "y_pred = torch.cat(y_pred, dim=0).numpy()  \n",
    "\n",
    "print('MAPE', mape(y_true, y_pred))\n",
    "print('R2', r_squared(y_true, y_pred))"
   ]
  },
  {
   "cell_type": "code",
   "execution_count": 38,
   "id": "883009e1",
   "metadata": {},
   "outputs": [
    {
     "data": {
      "text/plain": [
       "[<matplotlib.lines.Line2D at 0x252217fc3a0>]"
      ]
     },
     "execution_count": 38,
     "metadata": {},
     "output_type": "execute_result"
    },
    {
     "data": {
      "image/png": "[encoded data removed]",
      "text/plain": [
       "<Figure size 640x480 with 1 Axes>"
      ]
     },
     "metadata": {},
     "output_type": "display_data"
    }
   ],
   "source": [
    "plt.scatter(y_true, y_pred)\n",
    "plt.xlim([0, 1.2])\n",
    "plt.ylim([0, 1.2])\n",
    "plt.plot([0, 1.2], [0,1.2])"
   ]
  },
  {
   "cell_type": "code",
   "execution_count": null,
   "id": "add89fcb",
   "metadata": {},
   "outputs": [],
   "source": []
  }
 ],
 "metadata": {
  "kernelspec": {
   "display_name": "pytorch",
   "language": "python",
   "name": "python3"
  },
  "language_info": {
   "codemirror_mode": {
    "name": "ipython",
    "version": 3
   },
   "file_extension": ".py",
   "mimetype": "text/x-python",
   "name": "python",
   "nbconvert_exporter": "python",
   "pygments_lexer": "ipython3",
   "version": "3.10.18"
  }
 },
 "nbformat": 4,
 "nbformat_minor": 5
}
