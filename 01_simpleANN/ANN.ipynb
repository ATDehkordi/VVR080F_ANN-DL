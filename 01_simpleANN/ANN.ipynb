{
 "cells": [
  {
   "cell_type": "code",
   "execution_count": 1,
   "id": "7ce55bb9",
   "metadata": {},
   "outputs": [
    {
     "name": "stdout",
     "output_type": "stream",
     "text": [
      "x train shape (887, 12)\n",
      "y train shape (887,)\n",
      "x test shape (381, 12)\n",
      "y test shape (381,)\n",
      "x train type float64\n",
      "y train type float64\n",
      "x test type float64\n",
      "y test type float64\n"
     ]
    }
   ],
   "source": [
    "import numpy as np\n",
    "\n",
    "x_train = np.load('X_train.npy')\n",
    "x_test = np.load('X_test.npy')\n",
    "y_train = np.load('y_train.npy')\n",
    "y_test = np.load('y_test.npy')\n",
    "\n",
    "print('x train shape', x_train.shape)\n",
    "print('y train shape', y_train.shape)\n",
    "print('x test shape', x_test.shape)\n",
    "print('y test shape', y_test.shape)\n",
    "\n",
    "print('x train type', x_train.dtype)\n",
    "print('y train type', y_train.dtype)\n",
    "print('x test type', x_test.dtype)\n",
    "print('y test type', y_test.dtype)"
   ]
  },
  {
   "cell_type": "code",
   "execution_count": 2,
   "id": "af4b8bb4",
   "metadata": {},
   "outputs": [
    {
     "name": "stdout",
     "output_type": "stream",
     "text": [
      "data total (1268,)\n"
     ]
    },
    {
     "data": {
      "image/png": "[encoded data removed]",
      "text/plain": [
       "<Figure size 640x480 with 1 Axes>"
      ]
     },
     "metadata": {},
     "output_type": "display_data"
    }
   ],
   "source": [
    "import matplotlib.pyplot as plt\n",
    "\n",
    "print('data total', np.concatenate((y_train, y_test), axis = 0).shape)\n",
    "plt.hist(np.concatenate((y_train, y_test), axis = 0));"
   ]
  },
  {
   "cell_type": "code",
   "execution_count": 3,
   "metadata": {},
   "outputs": [],
   "source": [
    "def mape(real, predict):\n",
    "    \n",
    "    \"\"\"\n",
    "    Will give MAPE(%) between real and predict values \n",
    "    \n",
    "    \"\"\"\n",
    "    \n",
    "    error = np.abs(real.ravel() - predict.ravel())\n",
    "    \n",
    "    real_masked = real.ravel()[real.ravel() != 0]\n",
    "    error_masked = error.ravel()[real.ravel() != 0]\n",
    "    \n",
    "    return np.mean( (error_masked/real_masked) * 100 )\n",
    "\n",
    "\n",
    "from scipy import stats\n",
    "\n",
    "def r_squared(real, predict):\n",
    "    \n",
    "    \"\"\"\n",
    "    Will give R2 (0-1) between real and predict values \n",
    "    \n",
    "    \"\"\"\n",
    "    _, _, r_value, _, _ = stats.linregress(real, predict)\n",
    "    return r_value**2"
   ]
  },
  {
   "cell_type": "code",
   "execution_count": 4,
   "id": "05c5f956",
   "metadata": {},
   "outputs": [
    {
     "name": "stdout",
     "output_type": "stream",
     "text": [
      "2.7.1+cu118\n",
      "True\n",
      "NVIDIA GeForce GTX 960M\n"
     ]
    }
   ],
   "source": [
    "import torch\n",
    "print(torch.__version__)\n",
    "print(torch.cuda.is_available())\n",
    "print(torch.cuda.get_device_name())"
   ]
  },
  {
   "cell_type": "markdown",
   "id": "ab2829d5",
   "metadata": {},
   "source": [
    "#### Reshaping to (n_samples, n_outputs)"
   ]
  },
  {
   "cell_type": "code",
   "execution_count": 5,
   "id": "82c2fc8b",
   "metadata": {},
   "outputs": [],
   "source": [
    "num_of_outputs = 1\n",
    "\n",
    "x_train_tensor = torch.from_numpy(x_train.astype(np.float32))\n",
    "x_test_tensor = torch.from_numpy(x_test.astype(np.float32))\n",
    "\n",
    "y_train_tensor = torch.from_numpy(np.reshape(y_train.astype(np.float32), (-1, num_of_outputs)))\n",
    "y_test_tensor = torch.from_numpy(np.reshape(y_test.astype(np.float32), (-1, num_of_outputs)))\n",
    "\n",
    "\n",
    "from torch.utils.data import TensorDataset, DataLoader\n",
    "\n",
    "train_tesnsordataset = TensorDataset(x_train_tensor, y_train_tensor)\n",
    "test_tesnsordataset = TensorDataset(x_test_tensor, y_test_tensor)\n",
    "\n",
    "batch_size = 32\n",
    "\n",
    "train_loader = DataLoader(train_tesnsordataset, batch_size=batch_size, shuffle=True)\n",
    "test_loader = DataLoader(test_tesnsordataset, batch_size=batch_size, shuffle=True)"
   ]
  },
  {
   "cell_type": "code",
   "execution_count": 6,
   "id": "837ae790",
   "metadata": {},
   "outputs": [],
   "source": [
    "import torch.nn as nn\n",
    "\n",
    "class ANNmodel(nn.Module):\n",
    "    \n",
    "    def __init__(self, in_features, hidden_neurons, num_of_outputs):\n",
    "        \n",
    "        super().__init__()\n",
    "        \n",
    "        self.in_features = in_features\n",
    "        self.num_of_outputs = num_of_outputs\n",
    "        self.hidden_neurons = hidden_neurons\n",
    "        \n",
    "        self.L1 = nn.Linear(in_features=in_features, out_features=hidden_neurons, bias=True)\n",
    "        self.A1 = nn.Sigmoid()\n",
    "        self.L2 = nn.Linear(in_features=hidden_neurons, out_features=num_of_outputs, bias=True)\n",
    "        \n",
    "        \n",
    "    def forward(self, x):\n",
    "        \n",
    "        x = self.L1(x)\n",
    "        x = self.A1(x)\n",
    "        x = self.L2(x)\n",
    "        \n",
    "        return x"
   ]
  },
  {
   "cell_type": "code",
   "execution_count": 10,
   "id": "0560ab9c",
   "metadata": {},
   "outputs": [
    {
     "name": "stdout",
     "output_type": "stream",
     "text": [
      "MAPE 23.516302\n",
      "R2 0.6271651731059764\n"
     ]
    }
   ],
   "source": [
    "device = 'cuda'if torch.cuda.is_available else 'cpu'\n",
    "device  ='cpu'\n",
    "model = ANNmodel(in_features=12, hidden_neurons=24, num_of_outputs=1).to(device)\n",
    "\n",
    "Loss_func = nn.MSELoss()\n",
    "optimizer = torch.optim.Adam(model.parameters(), lr = 0.001)\n",
    "epochs = 200\n",
    "\n",
    "for epoch in range(epochs):\n",
    "    \n",
    "    model.train()\n",
    "    \n",
    "    for x_batch, y_batch in train_loader:\n",
    "        \n",
    "        x_batch = x_batch.to(device)\n",
    "        y_batch = y_batch.to(device)\n",
    "        \n",
    "        preds = model(x_batch)\n",
    "        \n",
    "        loss = Loss_func(preds, y_batch)\n",
    "        \n",
    "        optimizer.zero_grad()\n",
    "        loss.backward()\n",
    "        optimizer.step()\n",
    "        \n",
    "model.eval()\n",
    "\n",
    "y_true = []\n",
    "y_pred = []\n",
    "\n",
    "with torch.no_grad():\n",
    "    \n",
    "    for x_batch, y_batch in test_loader:\n",
    "        \n",
    "        x_batch = x_batch.to(device)\n",
    "        y_batch = y_batch.to(device)\n",
    "        \n",
    "        preds = model(x_batch)\n",
    "        \n",
    "        y_true.append(y_batch.squeeze(1).cpu())\n",
    "        y_pred.append(preds.squeeze(1).cpu())\n",
    "        \n",
    "y_true = torch.cat(y_true, dim=0).numpy()   # (N_test,)\n",
    "y_pred = torch.cat(y_pred, dim=0).numpy()   # (N_test,)\n",
    "\n",
    "\n",
    "print('MAPE', mape(y_true, y_pred))\n",
    "print('R2', r_squared(y_true, y_pred))"
   ]
  },
  {
   "cell_type": "code",
   "execution_count": 8,
   "id": "f4d0c831",
   "metadata": {},
   "outputs": [
    {
     "data": {
      "text/plain": [
       "[<matplotlib.lines.Line2D at 0x262faa52cb0>]"
      ]
     },
     "execution_count": 8,
     "metadata": {},
     "output_type": "execute_result"
    },
    {
     "data": {
      "image/png": "[encoded data removed]",
      "text/plain": [
       "<Figure size 640x480 with 1 Axes>"
      ]
     },
     "metadata": {},
     "output_type": "display_data"
    }
   ],
   "source": [
    "plt.scatter(y_true, y_pred)\n",
    "plt.xlim([0, 1.2])\n",
    "plt.ylim([0, 1.2])\n",
    "plt.plot([0, 1.2], [0,1.2])"
   ]
  }
 ],
 "metadata": {
  "kernelspec": {
   "display_name": "pytorch",
   "language": "python",
   "name": "python3"
  },
  "language_info": {
   "codemirror_mode": {
    "name": "ipython",
    "version": 3
   },
   "file_extension": ".py",
   "mimetype": "text/x-python",
   "name": "python",
   "nbconvert_exporter": "python",
   "pygments_lexer": "ipython3",
   "version": "3.10.18"
  }
 },
 "nbformat": 4,
 "nbformat_minor": 5
}
